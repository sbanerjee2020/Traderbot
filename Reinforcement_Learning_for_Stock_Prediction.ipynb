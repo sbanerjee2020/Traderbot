{
  "nbformat": 4,
  "nbformat_minor": 0,
  "metadata": {
    "colab": {
      "name": "Reinforcement_Learning_for_Stock_Prediction.ipynb",
      "version": "0.3.2",
      "provenance": [],
      "collapsed_sections": [],
      "include_colab_link": true
    },
    "kernelspec": {
      "name": "python2",
      "display_name": "Python 2"
    },
    "accelerator": "TPU"
  },
  "cells": [
    {
      "cell_type": "markdown",
      "metadata": {
        "id": "view-in-github",
        "colab_type": "text"
      },
      "source": [
        "<a href=\"https://colab.research.google.com/github/sbanerjee2020/Traderbot/blob/master/Reinforcement_Learning_for_Stock_Prediction.ipynb\" target=\"_parent\"><img src=\"https://colab.research.google.com/assets/colab-badge.svg\" alt=\"Open In Colab\"/></a>"
      ]
    },
    {
      "metadata": {
        "id": "HSoOiz-Bpuf_",
        "colab_type": "code",
        "outputId": "dd8f0ef6-7d99-4ef5-81f8-da9c80197ca9",
        "colab": {
          "base_uri": "https://localhost:8080/",
          "height": 114
        }
      },
      "cell_type": "code",
      "source": [
        "!git clone https://github.com/llSourcell/Reinforcement_Learning_for_Stock_Prediction\n",
        "  "
      ],
      "execution_count": 0,
      "outputs": [
        {
          "output_type": "stream",
          "text": [
            "Cloning into 'Reinforcement_Learning_for_Stock_Prediction'...\n",
            "remote: Enumerating objects: 54, done.\u001b[K\n",
            "remote: Total 54 (delta 0), reused 0 (delta 0), pack-reused 54\u001b[K\n",
            "Unpacking objects: 100% (54/54), done.\n"
          ],
          "name": "stdout"
        }
      ]
    },
    {
      "metadata": {
        "id": "0jatixEMqRBj",
        "colab_type": "code",
        "outputId": "1cfd135e-03a0-4d65-ccfc-8afac296e397",
        "colab": {
          "base_uri": "https://localhost:8080/",
          "height": 62
        }
      },
      "cell_type": "code",
      "source": [
        "!pwd"
      ],
      "execution_count": 0,
      "outputs": [
        {
          "output_type": "stream",
          "text": [
            "/content\n"
          ],
          "name": "stdout"
        }
      ]
    },
    {
      "metadata": {
        "id": "aVRKAnu-qR89",
        "colab_type": "code",
        "outputId": "71168d75-49ea-46ca-9adc-e822f619a849",
        "colab": {
          "base_uri": "https://localhost:8080/",
          "height": 149
        }
      },
      "cell_type": "code",
      "source": [
        "!ls -al"
      ],
      "execution_count": 0,
      "outputs": [
        {
          "output_type": "stream",
          "text": [
            "total 20\n",
            "drwxr-xr-x 1 root root 4096 Mar 30 14:00 .\n",
            "drwxr-xr-x 1 root root 4096 Mar 30 13:49 ..\n",
            "drwxr-xr-x 1 root root 4096 Mar 27 20:25 .config\n",
            "drwxr-xr-x 6 root root 4096 Mar 30 14:00 Reinforcement_Learning_for_Stock_Prediction\n",
            "drwxr-xr-x 1 root root 4096 Mar 27 20:26 sample_data\n"
          ],
          "name": "stdout"
        }
      ]
    },
    {
      "metadata": {
        "id": "rpqgEiSMqTxz",
        "colab_type": "code",
        "colab": {}
      },
      "cell_type": "code",
      "source": [
        "import os\n"
      ],
      "execution_count": 0,
      "outputs": []
    },
    {
      "metadata": {
        "id": "X25W90zqrDjw",
        "colab_type": "code",
        "colab": {}
      },
      "cell_type": "code",
      "source": [
        "os.chdir(\"Reinforcement_Learning_for_Stock_Prediction\")"
      ],
      "execution_count": 0,
      "outputs": []
    },
    {
      "metadata": {
        "id": "GKKdI_4ZrJbw",
        "colab_type": "code",
        "outputId": "5578f1b3-e800-4402-9db1-9239bf13463a",
        "colab": {
          "base_uri": "https://localhost:8080/",
          "height": 62
        }
      },
      "cell_type": "code",
      "source": [
        "!pwd"
      ],
      "execution_count": 0,
      "outputs": [
        {
          "output_type": "stream",
          "text": [
            "/content/Reinforcement_Learning_for_Stock_Prediction\n"
          ],
          "name": "stdout"
        }
      ]
    },
    {
      "metadata": {
        "id": "ETa6X86BrKTN",
        "colab_type": "code",
        "colab": {}
      },
      "cell_type": "code",
      "source": [
        "!cp  agent/agent.py  .\n"
      ],
      "execution_count": 0,
      "outputs": []
    },
    {
      "metadata": {
        "id": "zVX1km8urQYp",
        "colab_type": "code",
        "outputId": "3f003777-9e95-435b-f13f-7484f670c53d",
        "colab": {
          "base_uri": "https://localhost:8080/",
          "height": 253
        }
      },
      "cell_type": "code",
      "source": [
        "!ls -al"
      ],
      "execution_count": 0,
      "outputs": [
        {
          "output_type": "stream",
          "text": [
            "total 44\n",
            "drwxr-xr-x 6 root root 4096 Mar 30 14:01 .\n",
            "drwxr-xr-x 1 root root 4096 Mar 30 14:00 ..\n",
            "drwxr-xr-x 2 root root 4096 Mar 30 14:00 agent\n",
            "-rw-r--r-- 1 root root 1755 Mar 30 14:01 agent.py\n",
            "drwxr-xr-x 2 root root 4096 Mar 30 14:00 data\n",
            "-rw-r--r-- 1 root root 1326 Mar 30 14:00 evaluate.py\n",
            "-rw-r--r-- 1 root root  737 Mar 30 14:00 functions.py\n",
            "drwxr-xr-x 8 root root 4096 Mar 30 14:00 .git\n",
            "drwxr-xr-x 2 root root 4096 Mar 30 14:00 images\n",
            "-rw-r--r-- 1 root root 1620 Mar 30 14:00 README.md\n",
            "-rw-r--r-- 1 root root 1443 Mar 30 14:00 train.py\n"
          ],
          "name": "stdout"
        }
      ]
    },
    {
      "metadata": {
        "id": "W0tm81BirSdC",
        "colab_type": "code",
        "colab": {}
      },
      "cell_type": "code",
      "source": [
        "!mkdir model"
      ],
      "execution_count": 0,
      "outputs": []
    },
    {
      "metadata": {
        "id": "Ve0bEbzNrfTB",
        "colab_type": "code",
        "outputId": "780e4c36-8424-40f3-ffa5-8a7299dea809",
        "colab": {
          "base_uri": "https://localhost:8080/",
          "height": 270
        }
      },
      "cell_type": "code",
      "source": [
        "!ls -al"
      ],
      "execution_count": 0,
      "outputs": [
        {
          "output_type": "stream",
          "text": [
            "total 48\n",
            "drwxr-xr-x 7 root root 4096 Mar 30 14:01 .\n",
            "drwxr-xr-x 1 root root 4096 Mar 30 14:00 ..\n",
            "drwxr-xr-x 2 root root 4096 Mar 30 14:00 agent\n",
            "-rw-r--r-- 1 root root 1755 Mar 30 14:01 agent.py\n",
            "drwxr-xr-x 2 root root 4096 Mar 30 14:00 data\n",
            "-rw-r--r-- 1 root root 1326 Mar 30 14:00 evaluate.py\n",
            "-rw-r--r-- 1 root root  737 Mar 30 14:00 functions.py\n",
            "drwxr-xr-x 8 root root 4096 Mar 30 14:00 .git\n",
            "drwxr-xr-x 2 root root 4096 Mar 30 14:00 images\n",
            "drwxr-xr-x 2 root root 4096 Mar 30 14:01 model\n",
            "-rw-r--r-- 1 root root 1620 Mar 30 14:00 README.md\n",
            "-rw-r--r-- 1 root root 1443 Mar 30 14:00 train.py\n"
          ],
          "name": "stdout"
        }
      ]
    },
    {
      "metadata": {
        "id": "ltdjvGgHrhCa",
        "colab_type": "code",
        "outputId": "510501e6-d637-428a-eff3-7027d3ade81c",
        "colab": {
          "base_uri": "https://localhost:8080/",
          "height": 132
        }
      },
      "cell_type": "code",
      "source": [
        "!python train.py ^GSPC 10 10"
      ],
      "execution_count": 0,
      "outputs": [
        {
          "output_type": "stream",
          "text": [
            "Using TensorFlow backend.\n",
            "Traceback (most recent call last):\n",
            "  File \"train.py\", line 1, in <module>\n",
            "    from agent.agent import Agent\n",
            "ImportError: No module named agent\n"
          ],
          "name": "stdout"
        }
      ]
    },
    {
      "metadata": {
        "id": "h02kqyterm4G",
        "colab_type": "code",
        "colab": {}
      },
      "cell_type": "code",
      "source": [
        "%pycat train.py "
      ],
      "execution_count": 0,
      "outputs": []
    },
    {
      "metadata": {
        "id": "FVR_j6cAsoxR",
        "colab_type": "code",
        "colab": {}
      },
      "cell_type": "code",
      "source": [
        "!rm train.py"
      ],
      "execution_count": 0,
      "outputs": []
    },
    {
      "metadata": {
        "id": "4vU_enAZsOU3",
        "colab_type": "code",
        "outputId": "e654de9c-a21a-420c-f398-5091347b6003",
        "colab": {
          "base_uri": "https://localhost:8080/",
          "height": 34
        }
      },
      "cell_type": "code",
      "source": [
        "%%writefile train.py\n",
        "#from agent.agent import Agent\n",
        "from agent import *\n",
        "\n",
        "from functions import *\n",
        "import sys\n",
        "\n",
        "if len(sys.argv) != 4:\n",
        "\tprint(\"Usage: python train.py [stock] [window] [episodes]\")\n",
        "\texit()\n",
        "\n",
        "stock_name, window_size, episode_count = sys.argv[1], int(sys.argv[2]), int(sys.argv[3])\n",
        "\n",
        "agent = Agent(window_size)\n",
        "data = getStockDataVec(stock_name)\n",
        "l = len(data) - 1\n",
        "batch_size = 32\n",
        "\n",
        "for e in range(episode_count + 1):\n",
        "\tprint(\"Episode \" + str(e) + \"/\" + str(episode_count))\n",
        "\tstate = getState(data, 0, window_size + 1)\n",
        "\n",
        "\ttotal_profit = 0\n",
        "\tagent.inventory = []\n",
        "\n",
        "\tfor t in range(l):\n",
        "\t\taction = agent.act(state)\n",
        "\n",
        "\t\t# sit\n",
        "\t\tnext_state = getState(data, t + 1, window_size + 1)\n",
        "\t\treward = 0\n",
        "\n",
        "\t\tif action == 1: # buy\n",
        "\t\t\tagent.inventory.append(data[t])\n",
        "\t\t\t#print(\"Buy: \" + formatPrice(data[t]))\n",
        "\n",
        "\t\telif action == 2 and len(agent.inventory) > 0: # sell\n",
        "\t\t\tbought_price = agent.inventory.pop(0)\n",
        "\t\t\treward = max(data[t] - bought_price, 0)\n",
        "\t\t\ttotal_profit += data[t] - bought_price\n",
        "\t\t\t#print(\"Sell: \" + formatPrice(data[t]) + \" | Profit: \" + formatPrice(data[t] - bought_price))\n",
        "\n",
        "\t\tdone = True if t == l - 1 else False\n",
        "\t\tagent.memory.append((state, action, reward, next_state, done))\n",
        "\t\tstate = next_state\n",
        "\n",
        "\t\tif done:\n",
        "\t\t\tprint(\"--------------------------------\")\n",
        "\t\t\tprint(\"Total Profit: \" + formatPrice(total_profit))\n",
        "\t\t\tprint(\"--------------------------------\")\n",
        "\n",
        "\t\tif len(agent.memory) > batch_size:\n",
        "\t\t\tagent.expReplay(batch_size)\n",
        "\n",
        "\tif e % 10 == 0:\n",
        "\t\tagent.model.save(\"model/model_ep\" + str(e))\n"
      ],
      "execution_count": 0,
      "outputs": [
        {
          "output_type": "stream",
          "text": [
            "Overwriting train.py\n"
          ],
          "name": "stdout"
        }
      ]
    },
    {
      "metadata": {
        "id": "YlxQv-cssy-k",
        "colab_type": "code",
        "outputId": "5ac9103e-fe25-4c7c-c455-fe7e47f41e80",
        "colab": {
          "base_uri": "https://localhost:8080/",
          "height": 981
        }
      },
      "cell_type": "code",
      "source": [
        "!cat train.py"
      ],
      "execution_count": 0,
      "outputs": [
        {
          "output_type": "stream",
          "text": [
            "#from agent.agent import Agent\n",
            "from agent import *\n",
            "\n",
            "from functions import *\n",
            "import sys\n",
            "\n",
            "if len(sys.argv) != 4:\n",
            "\tprint(\"Usage: python train.py [stock] [window] [episodes]\")\n",
            "\texit()\n",
            "\n",
            "stock_name, window_size, episode_count = sys.argv[1], int(sys.argv[2]), int(sys.argv[3])\n",
            "\n",
            "agent = Agent(window_size)\n",
            "data = getStockDataVec(stock_name)\n",
            "l = len(data) - 1\n",
            "batch_size = 32\n",
            "\n",
            "for e in range(episode_count + 1):\n",
            "\tprint(\"Episode \" + str(e) + \"/\" + str(episode_count))\n",
            "\tstate = getState(data, 0, window_size + 1)\n",
            "\n",
            "\ttotal_profit = 0\n",
            "\tagent.inventory = []\n",
            "\n",
            "\tfor t in range(l):\n",
            "\t\taction = agent.act(state)\n",
            "\n",
            "\t\t# sit\n",
            "\t\tnext_state = getState(data, t + 1, window_size + 1)\n",
            "\t\treward = 0\n",
            "\n",
            "\t\tif action == 1: # buy\n",
            "\t\t\tagent.inventory.append(data[t])\n",
            "\t\t\t#print(\"Buy: \" + formatPrice(data[t]))\n",
            "\n",
            "\t\telif action == 2 and len(agent.inventory) > 0: # sell\n",
            "\t\t\tbought_price = agent.inventory.pop(0)\n",
            "\t\t\treward = max(data[t] - bought_price, 0)\n",
            "\t\t\ttotal_profit += data[t] - bought_price\n",
            "\t\t\t#print(\"Sell: \" + formatPrice(data[t]) + \" | Profit: \" + formatPrice(data[t] - bought_price))\n",
            "\n",
            "\t\tdone = True if t == l - 1 else False\n",
            "\t\tagent.memory.append((state, action, reward, next_state, done))\n",
            "\t\tstate = next_state\n",
            "\n",
            "\t\tif done:\n",
            "\t\t\tprint(\"--------------------------------\")\n",
            "\t\t\tprint(\"Total Profit: \" + formatPrice(total_profit))\n",
            "\t\t\tprint(\"--------------------------------\")\n",
            "\n",
            "\t\tif len(agent.memory) > batch_size:\n",
            "\t\t\tagent.expReplay(batch_size)\n",
            "\n",
            "\tif e % 10 == 0:\n",
            "\t\tagent.model.save(\"model/model_ep\" + str(e))"
          ],
          "name": "stdout"
        }
      ]
    },
    {
      "metadata": {
        "id": "G9fCrumjs1yE",
        "colab_type": "code",
        "outputId": "ee3ce1c4-bbd3-495a-8e1c-b7882cb806df",
        "colab": {
          "base_uri": "https://localhost:8080/",
          "height": 6565
        }
      },
      "cell_type": "code",
      "source": [
        "!python train.py ^GSPC 10 100"
      ],
      "execution_count": 0,
      "outputs": [
        {
          "output_type": "stream",
          "text": [
            "Using TensorFlow backend.\n",
            "WARNING:tensorflow:From /usr/local/lib/python2.7/dist-packages/tensorflow/python/framework/op_def_library.py:263: colocate_with (from tensorflow.python.framework.ops) is deprecated and will be removed in a future version.\n",
            "Instructions for updating:\n",
            "Colocations handled automatically by placer.\n",
            "Episode 0/100\n",
            "2019-03-30 17:23:48.758565: I tensorflow/core/platform/profile_utils/cpu_utils.cc:94] CPU Frequency: 2300000000 Hz\n",
            "2019-03-30 17:23:48.758922: I tensorflow/compiler/xla/service/service.cc:150] XLA service 0x558f0d8b4dc0 executing computations on platform Host. Devices:\n",
            "2019-03-30 17:23:48.758957: I tensorflow/compiler/xla/service/service.cc:158]   StreamExecutor device (0): <undefined>, <undefined>\n",
            "WARNING:tensorflow:From /usr/local/lib/python2.7/dist-packages/tensorflow/python/ops/math_ops.py:3066: to_int32 (from tensorflow.python.ops.math_ops) is deprecated and will be removed in a future version.\n",
            "Instructions for updating:\n",
            "Use tf.cast instead.\n",
            "--------------------------------\n",
            "Total Profit: -$6522.41\n",
            "--------------------------------\n",
            "Episode 1/100\n",
            "--------------------------------\n",
            "Total Profit: $269.88\n",
            "--------------------------------\n",
            "Episode 2/100\n",
            "--------------------------------\n",
            "Total Profit: $37.50\n",
            "--------------------------------\n",
            "Episode 3/100\n",
            "--------------------------------\n",
            "Total Profit: $261.74\n",
            "--------------------------------\n",
            "Episode 4/100\n",
            "--------------------------------\n",
            "Total Profit: $139.10\n",
            "--------------------------------\n",
            "Episode 5/100\n",
            "--------------------------------\n",
            "Total Profit: $183.32\n",
            "--------------------------------\n",
            "Episode 6/100\n",
            "--------------------------------\n",
            "Total Profit: -$208.37\n",
            "--------------------------------\n",
            "Episode 7/100\n",
            "--------------------------------\n",
            "Total Profit: -$353.33\n",
            "--------------------------------\n",
            "Episode 8/100\n",
            "--------------------------------\n",
            "Total Profit: $25.71\n",
            "--------------------------------\n",
            "Episode 9/100\n",
            "--------------------------------\n",
            "Total Profit: -$257.83\n",
            "--------------------------------\n",
            "Episode 10/100\n",
            "--------------------------------\n",
            "Total Profit: -$57.68\n",
            "--------------------------------\n",
            "Episode 11/100\n",
            "--------------------------------\n",
            "Total Profit: -$273.06\n",
            "--------------------------------\n",
            "Episode 12/100\n",
            "--------------------------------\n",
            "Total Profit: -$174.91\n",
            "--------------------------------\n",
            "Episode 13/100\n",
            "--------------------------------\n",
            "Total Profit: $137.03\n",
            "--------------------------------\n",
            "Episode 14/100\n",
            "--------------------------------\n",
            "Total Profit: -$373.52\n",
            "--------------------------------\n",
            "Episode 15/100\n",
            "--------------------------------\n",
            "Total Profit: -$142.77\n",
            "--------------------------------\n",
            "Episode 16/100\n",
            "--------------------------------\n",
            "Total Profit: $46.06\n",
            "--------------------------------\n",
            "Episode 17/100\n",
            "--------------------------------\n",
            "Total Profit: -$320.73\n",
            "--------------------------------\n",
            "Episode 18/100\n",
            "--------------------------------\n",
            "Total Profit: $103.76\n",
            "--------------------------------\n",
            "Episode 19/100\n",
            "--------------------------------\n",
            "Total Profit: $52.10\n",
            "--------------------------------\n",
            "Episode 20/100\n",
            "--------------------------------\n",
            "Total Profit: -$150.35\n",
            "--------------------------------\n",
            "Episode 21/100\n",
            "--------------------------------\n",
            "Total Profit: $124.49\n",
            "--------------------------------\n",
            "Episode 22/100\n",
            "--------------------------------\n",
            "Total Profit: $2.89\n",
            "--------------------------------\n",
            "Episode 23/100\n",
            "--------------------------------\n",
            "Total Profit: $362.44\n",
            "--------------------------------\n",
            "Episode 24/100\n",
            "--------------------------------\n",
            "Total Profit: $150.74\n",
            "--------------------------------\n",
            "Episode 25/100\n",
            "--------------------------------\n",
            "Total Profit: $364.41\n",
            "--------------------------------\n",
            "Episode 26/100\n",
            "--------------------------------\n",
            "Total Profit: -$151.07\n",
            "--------------------------------\n",
            "Episode 27/100\n",
            "--------------------------------\n",
            "Total Profit: $189.18\n",
            "--------------------------------\n",
            "Episode 28/100\n",
            "--------------------------------\n",
            "Total Profit: $257.58\n",
            "--------------------------------\n",
            "Episode 29/100\n",
            "--------------------------------\n",
            "Total Profit: -$334.33\n",
            "--------------------------------\n",
            "Episode 30/100\n",
            "--------------------------------\n",
            "Total Profit: -$83.64\n",
            "--------------------------------\n",
            "Episode 31/100\n",
            "--------------------------------\n",
            "Total Profit: $47.45\n",
            "--------------------------------\n",
            "Episode 32/100\n",
            "--------------------------------\n",
            "Total Profit: $270.98\n",
            "--------------------------------\n",
            "Episode 33/100\n",
            "--------------------------------\n",
            "Total Profit: -$108.40\n",
            "--------------------------------\n",
            "Episode 34/100\n",
            "--------------------------------\n",
            "Total Profit: -$238.97\n",
            "--------------------------------\n",
            "Episode 35/100\n",
            "--------------------------------\n",
            "Total Profit: -$9.61\n",
            "--------------------------------\n",
            "Episode 36/100\n",
            "--------------------------------\n",
            "Total Profit: -$54.41\n",
            "--------------------------------\n",
            "Episode 37/100\n",
            "--------------------------------\n",
            "Total Profit: $22.48\n",
            "--------------------------------\n",
            "Episode 38/100\n",
            "--------------------------------\n",
            "Total Profit: $29.32\n",
            "--------------------------------\n",
            "Episode 39/100\n",
            "--------------------------------\n",
            "Total Profit: $42.67\n",
            "--------------------------------\n",
            "Episode 40/100\n",
            "--------------------------------\n",
            "Total Profit: $172.23\n",
            "--------------------------------\n",
            "Episode 41/100\n",
            "--------------------------------\n",
            "Total Profit: $142.46\n",
            "--------------------------------\n",
            "Episode 42/100\n",
            "--------------------------------\n",
            "Total Profit: $338.97\n",
            "--------------------------------\n",
            "Episode 43/100\n",
            "--------------------------------\n",
            "Total Profit: -$114.46\n",
            "--------------------------------\n",
            "Episode 44/100\n",
            "--------------------------------\n",
            "Total Profit: $8.45\n",
            "--------------------------------\n",
            "Episode 45/100\n",
            "--------------------------------\n",
            "Total Profit: -$216.05\n",
            "--------------------------------\n",
            "Episode 46/100\n",
            "--------------------------------\n",
            "Total Profit: -$265.68\n",
            "--------------------------------\n",
            "Episode 47/100\n",
            "--------------------------------\n",
            "Total Profit: -$102.29\n",
            "--------------------------------\n",
            "Episode 48/100\n",
            "--------------------------------\n",
            "Total Profit: $44.01\n",
            "--------------------------------\n",
            "Episode 49/100\n",
            "--------------------------------\n",
            "Total Profit: -$452.77\n",
            "--------------------------------\n",
            "Episode 50/100\n",
            "--------------------------------\n",
            "Total Profit: $36.02\n",
            "--------------------------------\n",
            "Episode 51/100\n",
            "--------------------------------\n",
            "Total Profit: $15.02\n",
            "--------------------------------\n",
            "Episode 52/100\n",
            "--------------------------------\n",
            "Total Profit: -$58.46\n",
            "--------------------------------\n",
            "Episode 53/100\n",
            "--------------------------------\n",
            "Total Profit: -$381.43\n",
            "--------------------------------\n",
            "Episode 54/100\n",
            "--------------------------------\n",
            "Total Profit: $338.40\n",
            "--------------------------------\n",
            "Episode 55/100\n",
            "--------------------------------\n",
            "Total Profit: -$20.82\n",
            "--------------------------------\n",
            "Episode 56/100\n",
            "--------------------------------\n",
            "Total Profit: $221.52\n",
            "--------------------------------\n",
            "Episode 57/100\n",
            "--------------------------------\n",
            "Total Profit: -$57.04\n",
            "--------------------------------\n",
            "Episode 58/100\n",
            "--------------------------------\n",
            "Total Profit: $102.68\n",
            "--------------------------------\n",
            "Episode 59/100\n",
            "--------------------------------\n",
            "Total Profit: -$77.46\n",
            "--------------------------------\n",
            "Episode 60/100\n",
            "--------------------------------\n",
            "Total Profit: $304.67\n",
            "--------------------------------\n",
            "Episode 61/100\n",
            "--------------------------------\n",
            "Total Profit: -$106.15\n",
            "--------------------------------\n",
            "Episode 62/100\n",
            "--------------------------------\n",
            "Total Profit: $86.71\n",
            "--------------------------------\n",
            "Episode 63/100\n",
            "--------------------------------\n",
            "Total Profit: -$92.66\n",
            "--------------------------------\n",
            "Episode 64/100\n",
            "--------------------------------\n",
            "Total Profit: $28.53\n",
            "--------------------------------\n",
            "Episode 65/100\n",
            "--------------------------------\n",
            "Total Profit: -$39.27\n",
            "--------------------------------\n",
            "Episode 66/100\n",
            "--------------------------------\n",
            "Total Profit: -$18.31\n",
            "--------------------------------\n",
            "Episode 67/100\n",
            "--------------------------------\n",
            "Total Profit: -$260.04\n",
            "--------------------------------\n",
            "Episode 68/100\n",
            "--------------------------------\n",
            "Total Profit: $51.18\n",
            "--------------------------------\n",
            "Episode 69/100\n",
            "--------------------------------\n",
            "Total Profit: $75.11\n",
            "--------------------------------\n",
            "Episode 70/100\n",
            "--------------------------------\n",
            "Total Profit: -$64.61\n",
            "--------------------------------\n",
            "Episode 71/100\n",
            "--------------------------------\n",
            "Total Profit: -$56.93\n",
            "--------------------------------\n",
            "Episode 72/100\n",
            "--------------------------------\n",
            "Total Profit: -$9.35\n",
            "--------------------------------\n",
            "Episode 73/100\n",
            "--------------------------------\n",
            "Total Profit: $220.53\n",
            "--------------------------------\n",
            "Episode 74/100\n",
            "--------------------------------\n",
            "Total Profit: $413.92\n",
            "--------------------------------\n",
            "Episode 75/100\n",
            "--------------------------------\n",
            "Total Profit: -$153.91\n",
            "--------------------------------\n",
            "Episode 76/100\n",
            "--------------------------------\n",
            "Total Profit: -$574.01\n",
            "--------------------------------\n",
            "Episode 77/100\n",
            "--------------------------------\n",
            "Total Profit: $255.91\n",
            "--------------------------------\n",
            "Episode 78/100\n",
            "--------------------------------\n",
            "Total Profit: $475.51\n",
            "--------------------------------\n",
            "Episode 79/100\n",
            "--------------------------------\n",
            "Total Profit: $264.23\n",
            "--------------------------------\n",
            "Episode 80/100\n",
            "--------------------------------\n",
            "Total Profit: -$133.79\n",
            "--------------------------------\n",
            "Episode 81/100\n",
            "--------------------------------\n",
            "Total Profit: -$184.97\n",
            "--------------------------------\n",
            "Episode 82/100\n",
            "--------------------------------\n",
            "Total Profit: $285.82\n",
            "--------------------------------\n",
            "Episode 83/100\n",
            "--------------------------------\n",
            "Total Profit: $27.30\n",
            "--------------------------------\n",
            "Episode 84/100\n",
            "--------------------------------\n",
            "Total Profit: -$18.34\n",
            "--------------------------------\n",
            "Episode 85/100\n",
            "--------------------------------\n",
            "Total Profit: $280.40\n",
            "--------------------------------\n",
            "Episode 86/100\n",
            "--------------------------------\n",
            "Total Profit: -$92.28\n",
            "--------------------------------\n",
            "Episode 87/100\n",
            "--------------------------------\n",
            "Total Profit: -$160.68\n",
            "--------------------------------\n",
            "Episode 88/100\n",
            "--------------------------------\n",
            "Total Profit: -$68.63\n",
            "--------------------------------\n",
            "Episode 89/100\n",
            "--------------------------------\n",
            "Total Profit: -$635.77\n",
            "--------------------------------\n",
            "Episode 90/100\n",
            "--------------------------------\n",
            "Total Profit: $30.19\n",
            "--------------------------------\n",
            "Episode 91/100\n"
          ],
          "name": "stdout"
        }
      ]
    },
    {
      "metadata": {
        "id": "JDE1N3aM48Yh",
        "colab_type": "code",
        "outputId": "39cc4a91-bf10-469f-845d-ac6f011db917",
        "colab": {
          "base_uri": "https://localhost:8080/",
          "height": 201
        }
      },
      "cell_type": "code",
      "source": [
        "!ls -al ../Reinforcement_Learning_for_Stock_Prediction/model"
      ],
      "execution_count": 0,
      "outputs": [
        {
          "output_type": "stream",
          "text": [
            "total 440\n",
            "drwxr-xr-x 2 root root  4096 Mar 30 17:18 .\n",
            "drwxr-xr-x 7 root root  4096 Mar 30 14:03 ..\n",
            "-rw-r--r-- 1 root root 70768 Mar 30 14:05 model_ep0\n",
            "-rw-r--r-- 1 root root 70768 Mar 30 14:43 model_ep10\n",
            "-rw-r--r-- 1 root root 70768 Mar 30 15:22 model_ep20\n",
            "-rw-r--r-- 1 root root 70768 Mar 30 16:00 model_ep30\n",
            "-rw-r--r-- 1 root root 70768 Mar 30 16:39 model_ep40\n",
            "-rw-r--r-- 1 root root 70768 Mar 30 17:18 model_ep50\n"
          ],
          "name": "stdout"
        }
      ]
    },
    {
      "metadata": {
        "id": "OZrg20KW3qao",
        "colab_type": "code",
        "colab": {}
      },
      "cell_type": "code",
      "source": [
        ""
      ],
      "execution_count": 0,
      "outputs": []
    }
  ]
}