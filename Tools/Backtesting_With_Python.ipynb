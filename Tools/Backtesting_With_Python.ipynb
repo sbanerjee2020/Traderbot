{
 "cells": [
  {
   "cell_type": "code",
   "execution_count": 1,
   "metadata": {},
   "outputs": [],
   "source": [
    "# https://towardsdatascience.com/backtesting-with-python-109cab7ee737\n",
    "\n",
    "#&apikey=33a7c94e046defe591808732c7e21281"
   ]
  },
  {
   "cell_type": "code",
   "execution_count": 15,
   "metadata": {},
   "outputs": [],
   "source": [
    "import requests\n",
    "import pandas as pd\n",
    "import matplotlib.pyplot as plt\n",
    "import numpy as np"
   ]
  },
  {
   "cell_type": "code",
   "execution_count": 18,
   "metadata": {},
   "outputs": [],
   "source": [
    "#apikey=33a7c94e046defe591808732c7e21281\n",
    "#  Visit https://financialmodelingprep.com/developer/docs/"
   ]
  },
  {
   "cell_type": "code",
   "execution_count": 95,
   "metadata": {},
   "outputs": [],
   "source": [
    "test_stock = 'TSLA'\n",
    "api_key='33a7c94e046defe591808732c7e21281'\n",
    "stockprices = requests.get(f\"https://financialmodelingprep.com/api/v3/historical-price-full/{test_stock}?serietype=line&apikey={api_key}\")\n",
    "stockprices = stockprices.json()['historical']"
   ]
  },
  {
   "cell_type": "code",
   "execution_count": 97,
   "metadata": {},
   "outputs": [
    {
     "data": {
      "text/plain": [
       "[{'date': '2020-06-26', 'close': 959.74},\n",
       " {'date': '2020-06-25', 'close': 985.98},\n",
       " {'date': '2020-06-24', 'close': 960.85},\n",
       " {'date': '2020-06-23', 'close': 1001.78},\n",
       " {'date': '2020-06-22', 'close': 994.32},\n",
       " {'date': '2020-06-19', 'close': 1000.9},\n",
       " {'date': '2020-06-18', 'close': 1003.96},\n",
       " {'date': '2020-06-17', 'close': 991.79},\n",
       " {'date': '2020-06-16', 'close': 982.13},\n",
       " {'date': '2020-06-15', 'close': 990.9}]"
      ]
     },
     "execution_count": 97,
     "metadata": {},
     "output_type": "execute_result"
    }
   ],
   "source": [
    "stockprices[0:10]"
   ]
  },
  {
   "cell_type": "code",
   "execution_count": 98,
   "metadata": {},
   "outputs": [
    {
     "data": {
      "text/plain": [
       "[{'date': '2010-07-27', 'close': 20.55},\n",
       " {'date': '2010-07-26', 'close': 20.95},\n",
       " {'date': '2010-07-23', 'close': 21.29},\n",
       " {'date': '2010-07-22', 'close': 21.0},\n",
       " {'date': '2010-07-21', 'close': 20.22},\n",
       " {'date': '2010-07-20', 'close': 20.3},\n",
       " {'date': '2010-07-19', 'close': 21.91},\n",
       " {'date': '2010-07-16', 'close': 20.64},\n",
       " {'date': '2010-07-15', 'close': 19.89},\n",
       " {'date': '2010-07-14', 'close': 19.84},\n",
       " {'date': '2010-07-13', 'close': 18.14},\n",
       " {'date': '2010-07-12', 'close': 17.05},\n",
       " {'date': '2010-07-09', 'close': 17.4},\n",
       " {'date': '2010-07-08', 'close': 17.46},\n",
       " {'date': '2010-07-07', 'close': 15.8},\n",
       " {'date': '2010-07-06', 'close': 16.11},\n",
       " {'date': '2010-07-02', 'close': 19.2},\n",
       " {'date': '2010-07-01', 'close': 21.96},\n",
       " {'date': '2010-06-30', 'close': 23.83},\n",
       " {'date': '2010-06-29', 'close': 23.89}]"
      ]
     },
     "execution_count": 98,
     "metadata": {},
     "output_type": "execute_result"
    }
   ],
   "source": [
    "stockprices[-20:]"
   ]
  },
  {
   "cell_type": "markdown",
   "metadata": {},
   "source": [
    "- First (1), we create a new column that will contain True for all data points in the data frame where the 20 days moving average cross above the 250 days moving average.\n",
    "\n",
    "- Of course, we are only interested in the first or second day when the crossover happens (i.e. 20 days MA goes over 250 days MA). Therefore, we locate the first or second date (rows) where the crossover happens (2).\n",
    "\n",
    "- As well stated in this article, we will use the two-day rule ( ie we start the trade only after it is confirmed by one more day’s closing), and will keep the date as the entry point only if the 20 days MA is above 250 days MA two days in a row."
   ]
  },
  {
   "cell_type": "code",
   "execution_count": 125,
   "metadata": {},
   "outputs": [],
   "source": [
    "def stockpriceanalysis(stock):\n",
    "    stockprices = requests.get(f\"https://financialmodelingprep.com/api/v3/historical-price-full/{stock}?serietype=line&apikey={api_key}\")\n",
    "    stockprices = stockprices.json()\n",
    "    #print(stockprices)\n",
    "#Parse the API response and select only last 1200 days of prices\n",
    "    stockprices = stockprices['historical']\n",
    "    stockprices = stockprices[0 : 1200]\n",
    "    stockprices.reverse()    # $$$  I had to reverse the array to get it working.\n",
    " #   print(stockprices[-20:])\n",
    "\n",
    "    stockprices = pd.DataFrame.from_dict(stockprices)\n",
    "    stockprices = stockprices.set_index('date')\n",
    "    \n",
    "    #20 days to represent the 22 trading days in a month\n",
    "    stockprices['20d'] = stockprices['close'].rolling(20).mean()\n",
    "    stockprices['250d'] = stockprices['close'].rolling(250).mean()\n",
    "    \n",
    "    ###STARTING BACKTESTING STRATEGY\n",
    "    #Start longposiiton list\n",
    "    longpositionsprofit = []\n",
    "\n",
    "    shortpositions = []\n",
    "\n",
    "    stockprices['buy'] =(stockprices['20d'] > stockprices['250d'])\n",
    "\n",
    "    #We find the first True since it is first day when the line has crossed. \n",
    "    #Also, ensure that we have at least two days where sticoprices\n",
    "    \n",
    "    stockprices['firstbuy'] =   ((stockprices['buy'] == True) & \n",
    "                                 (stockprices['buy'].shift(2) == False)& \n",
    "                                 (stockprices['buy'].shift(1) == True))\n",
    "\n",
    "\n",
    "    buyingpoints = np.where(stockprices['firstbuy'] == True)\n",
    "\n",
    "    for item in buyingpoints[0]:\n",
    "        #close price of the stock when MA crosses\n",
    "        close_price = stockprices.iloc[item].close\n",
    "        #Enter long position\n",
    "        long = close_price*100\n",
    "        sellday = item + 20\n",
    "        close_price = stockprices.iloc[sellday].close\n",
    "        #Sell 20 days later:\n",
    "        sell = close_price*100\n",
    "\n",
    "        #Calculate profti\n",
    "        profit = sell - long\n",
    "\n",
    "        longpositionsprofit.append(profit)\n",
    "        \n",
    "    #Result of Moving Average Strategy of going long\n",
    "    print(\"Long Position Profit\")\n",
    "    print(f\"Profit of Moving Average Strategy = ${sum(longpositionsprofit)}\" )\n",
    "    #Result of just holding the stock over 1200 days\n",
    "  \n",
    "    firstdayprice = stockprices.iloc[0].close\n",
    "    lastdayprice = stockprices.iloc[-1].close\n",
    "\n",
    "    profit = 100*(lastdayprice - firstdayprice)\n",
    "    print(f\"Buy and Hold Proft = ${profit}.  Start-Price = ${firstdayprice}. End-Price = ${lastdayprice}.  \")\n"
   ]
  },
  {
   "cell_type": "code",
   "execution_count": 126,
   "metadata": {},
   "outputs": [
    {
     "name": "stdout",
     "output_type": "stream",
     "text": [
      "Long Position Profit\n",
      "Profit of Moving Average Strategy = $1913.0\n",
      "Buy and Hold Proft = $24023.0.  Start-Price = $113.4. End-Price = $353.63.  \n"
     ]
    }
   ],
   "source": [
    "stockpriceanalysis('aapl')"
   ]
  },
  {
   "cell_type": "code",
   "execution_count": 127,
   "metadata": {},
   "outputs": [
    {
     "name": "stdout",
     "output_type": "stream",
     "text": [
      "Long Position Profit\n",
      "Profit of Moving Average Strategy = $75.0\n",
      "Buy and Hold Proft = $15243.0.  Start-Price = $43.9. End-Price = $196.33.  \n"
     ]
    }
   ],
   "source": [
    "stockpriceanalysis('MSFT')"
   ]
  },
  {
   "cell_type": "code",
   "execution_count": 128,
   "metadata": {},
   "outputs": [
    {
     "name": "stdout",
     "output_type": "stream",
     "text": [
      "Long Position Profit\n",
      "Profit of Moving Average Strategy = $31290.0\n",
      "Buy and Hold Proft = $215446.99999999997.  Start-Price = $538.4. End-Price = $2692.87.  \n"
     ]
    }
   ],
   "source": [
    "stockpriceanalysis('AMZN')"
   ]
  },
  {
   "cell_type": "code",
   "execution_count": 129,
   "metadata": {},
   "outputs": [
    {
     "name": "stdout",
     "output_type": "stream",
     "text": [
      "Long Position Profit\n",
      "Profit of Moving Average Strategy = $-595.0000000000036\n",
      "Buy and Hold Proft = $69880.0.  Start-Price = $260.94. End-Price = $959.74.  \n"
     ]
    }
   ],
   "source": [
    "stockpriceanalysis('TSLA')"
   ]
  },
  {
   "cell_type": "code",
   "execution_count": null,
   "metadata": {},
   "outputs": [],
   "source": []
  }
 ],
 "metadata": {
  "kernelspec": {
   "display_name": "Python 3",
   "language": "python",
   "name": "python3"
  },
  "language_info": {
   "codemirror_mode": {
    "name": "ipython",
    "version": 3
   },
   "file_extension": ".py",
   "mimetype": "text/x-python",
   "name": "python",
   "nbconvert_exporter": "python",
   "pygments_lexer": "ipython3",
   "version": "3.7.6"
  }
 },
 "nbformat": 4,
 "nbformat_minor": 4
}
