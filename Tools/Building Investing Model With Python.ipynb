{
 "cells": [
  {
   "cell_type": "markdown",
   "metadata": {},
   "source": [
    "# Building a model based on financial ratios\n",
    "\n",
    "https://towardsdatascience.com/building-an-investing-model-with-python-44d779adb6bf"
   ]
  },
  {
   "cell_type": "markdown",
   "metadata": {},
   "source": [
    "# Overview\n",
    "- Investment model to find attractive stocks based on financial ratios\n",
    "- Find all technology  stocks in Nasdaq exchange\n",
    "- Compute main financial ratios for each stock\n",
    "- Based on a custom ranking criteria, build a model to find the most attractive stocks"
   ]
  },
  {
   "cell_type": "markdown",
   "metadata": {},
   "source": [
    "# Approach\n",
    "- Use financialmodelingprep API  \n",
    "- Make a Get request to the financial API to extract Nasdaq ticker\n",
    "- Filter by Technology sector and bigger than a particular size\n",
    "- Loop through each company and extract the financial ratios\n",
    "- Append each of the ratios for each of the companies into a Python dictionary and create a Pandas DataFrame\n",
    "- Set up an investment model ranking criteria and come up with a list of most attractive stocks according to model"
   ]
  },
  {
   "cell_type": "code",
   "execution_count": 15,
   "metadata": {},
   "outputs": [],
   "source": [
    "import requests\n",
    "import pandas as pd"
   ]
  },
  {
   "cell_type": "code",
   "execution_count": 22,
   "metadata": {},
   "outputs": [],
   "source": [
    "# API_Key = \"33a7c94e046defe591808732c7e21281\"\n",
    "api_key = '33a7c94e046defe591808732c7e21281'\n",
    "companies = []\n",
    "marketcap = str(10000000000)\n",
    "volumecap = str(10000000)"
   ]
  },
  {
   "cell_type": "code",
   "execution_count": 23,
   "metadata": {},
   "outputs": [],
   "source": [
    "url = (f'https://financialmodelingprep.com/api/v3/stock-screener?marketCapMoreThan={marketcap}&betaMoreThan=1&volumeMoreThan=10000&sector=Technology&exchange=NASDAQ&dividendMoreThan=0&limit={volumecap}&apikey={api_key}')"
   ]
  },
  {
   "cell_type": "code",
   "execution_count": 24,
   "metadata": {},
   "outputs": [],
   "source": [
    "#get companies based on criteria defined about\n",
    "screener = requests.get(url).json()\n",
    "\n",
    "#print(screener)"
   ]
  },
  {
   "cell_type": "code",
   "execution_count": 25,
   "metadata": {},
   "outputs": [],
   "source": [
    "for item in screener:\n",
    "    companies.append(item['symbol'])"
   ]
  },
  {
   "cell_type": "code",
   "execution_count": 26,
   "metadata": {},
   "outputs": [
    {
     "name": "stdout",
     "output_type": "stream",
     "text": [
      "['AAPL', 'MSFT', 'NVDA', 'ADBE', 'CSCO', 'ASML', 'TXN', 'QCOM', 'INTU', 'AMD', 'AMAT', 'MU', 'ADSK', 'LRCX', 'TEAM', 'WDAY', 'ADI', 'NXPI', 'CTSH', 'SPLK', 'KLAC', 'SNPS', 'CDNS', 'MCHP', 'OKTA', 'ANSS', 'XLNX', 'MRVL', 'VRSN', 'SWKS', 'FTNT', 'COUP', 'TTD', 'MXIM', 'CDW', 'ZS', 'TER', 'ZBRA', 'SSNC', 'WIX', 'QRVO', 'SYMC', 'WDC', 'GDS', 'STX', 'NLOK', 'LOGI', 'MPWR', 'TRMB', 'CGNX', 'ULTI']\n"
     ]
    }
   ],
   "source": [
    "print(companies)"
   ]
  },
  {
   "cell_type": "markdown",
   "metadata": {},
   "source": [
    "# Compute Financial Ratios\n",
    "- Next, we extract all financial ratios from the Nasdaq companies that we obtained in the previous section. \n",
    "- For our investment model, we will work with below selected financial ratios."
   ]
  },
  {
   "cell_type": "code",
   "execution_count": 28,
   "metadata": {},
   "outputs": [],
   "source": [
    "value_ratios ={}\n",
    "#get the financial ratios\n",
    "count = 0\n",
    "for company in companies:\n",
    "    try:\n",
    "        if count <10:\n",
    "            count = count + 1\n",
    "            fin_ratios = requests.get(f'https://financialmodelingprep.com/api/v3/ratios/{company}?apikey={api_key}').json()\n",
    "            value_ratios[company] = {}\n",
    "            value_ratios[company]['ROE'] = fin_ratios[0]['returnOnEquity']\n",
    "            value_ratios[company]['ROA'] = fin_ratios[0]['returnOnAssets']\n",
    "            value_ratios[company]['Debt_Ratio'] = fin_ratios[0]['debtRatio']\n",
    "            value_ratios[company]['Interest_Coverage'] = fin_ratios[0]['interestCoverage']\n",
    "            value_ratios[company]['Payout_Ratio'] = fin_ratios[0]['payoutRatio']\n",
    "            value_ratios[company]['Dividend_Payout_Ratio'] = fin_ratios[0]['dividendPayoutRatio']\n",
    "            value_ratios[company]['PB'] = fin_ratios[0]['priceToBookRatio']\n",
    "            value_ratios[company]['PS'] = fin_ratios[0]['priceToSalesRatio']\n",
    "            value_ratios[company]['PE'] = fin_ratios[0]['priceEarningsRatio']\n",
    "            value_ratios[company]['Dividend_Yield'] = fin_ratios[0]['dividendYield']\n",
    "            value_ratios[company]['Gross_Profit_Margin'] = fin_ratios[0]['grossProfitMargin']\n",
    "       #more financials on growth:https://financialmodelingprep.com/api/v3/financial-growth/AAPL?apikey=demo\n",
    "            growth_ratios = requests.get(f'https://financialmodelingprep.com/api/v3/financial-growth/{company}?apikey={demo}').json()\n",
    "            value_ratios[company]['Revenue_Growth'] = growth_ratios[0]['revenueGrowth']\n",
    "            value_ratios[company]['NetIncome_Growth'] = growth_ratios[0]['netIncomeGrowth']\n",
    "            value_ratios[company]['EPS_Growth'] = growth_ratios[0]['epsgrowth']\n",
    "            value_ratios[company]['RD_Growth'] = growth_ratios[0]['rdexpenseGrowth']\n",
    "        \n",
    "    except:\n",
    "          pass\n",
    "\n",
    "#print(value_ratios)"
   ]
  },
  {
   "cell_type": "code",
   "execution_count": 31,
   "metadata": {},
   "outputs": [],
   "source": [
    "#print(value_ratios)"
   ]
  },
  {
   "cell_type": "code",
   "execution_count": 30,
   "metadata": {},
   "outputs": [
    {
     "name": "stdout",
     "output_type": "stream",
     "text": [
      "           ROE       ROA  Debt_Ratio  Interest_Coverage  Payout_Ratio  \\\n",
      "AAPL  0.610645  0.163230    0.732692          18.382830      0.255520   \n",
      "MSFT  0.383465  0.136937    0.642897           5.881981      0.351962   \n",
      "NVDA  0.229105  0.161478    0.295178          57.115385      0.139485   \n",
      "ADBE  0.280286  0.142154    0.492826          20.384578      0.000000   \n",
      "\n",
      "      Dividend_Payout_Ratio         PB         PS         PE  Dividend_Yield  \\\n",
      "AAPL               0.255520  12.709658   4.420394  20.813515        0.012277   \n",
      "MSFT               0.351962  10.523850   8.557532  27.444076        0.012825   \n",
      "NVDA               0.139485  13.076733  14.617004  57.077414        0.002444   \n",
      "ADBE                    NaN  15.276147  14.399420  54.501944             NaN   \n",
      "\n",
      "      Gross_Profit_Margin  Revenue_Growth  NetIncome_Growth  EPS_Growth  \\\n",
      "AAPL             0.378178       -0.020411         -0.071811   -0.003331   \n",
      "MSFT             0.659020        0.140295          1.367992    1.376744   \n",
      "NVDA             0.619894       -0.068112         -0.324801   -0.325991   \n",
      "ADBE             0.850266        0.237130          0.139219    0.149621   \n",
      "\n",
      "      RD_Growth  \n",
      "AAPL   0.139154  \n",
      "MSFT   0.146000  \n",
      "NVDA   0.190657  \n",
      "ADBE   0.255178  \n"
     ]
    }
   ],
   "source": [
    "DF = pd.DataFrame.from_dict(value_ratios,orient='index')\n",
    "print(DF.head(4))"
   ]
  },
  {
   "cell_type": "code",
   "execution_count": 32,
   "metadata": {},
   "outputs": [],
   "source": [
    "#criteria ranking\n",
    "ROE = 1.2\n",
    "ROA = 1.1\n",
    "Debt_Ratio = -1.1\n",
    "Interest_Coverage = 1.05\n",
    "Dividend_Payout_Ratio = 1.01\n",
    "PB = -1.10\n",
    "PS = -1.05\n",
    "Revenue_Growth = 1.25\n",
    "Net_Income_Growth = 1.10"
   ]
  },
  {
   "cell_type": "code",
   "execution_count": 33,
   "metadata": {},
   "outputs": [],
   "source": [
    "#mean to enable comparison across ratios\n",
    "ratios_mean = []\n",
    "for item in DF.columns:\n",
    "    ratios_mean.append(DF[item].mean())\n",
    "#divide each value in dataframe by mean to normalize values\n",
    "DF = DF / ratios_mean"
   ]
  },
  {
   "cell_type": "code",
   "execution_count": 34,
   "metadata": {},
   "outputs": [],
   "source": [
    "DF['ranking'] = DF['NetIncome_Growth']*Net_Income_Growth + \\\n",
    "                DF['Revenue_Growth']*Revenue_Growth  + \\\n",
    "                DF['ROE']*ROE + DF['ROA']*ROA + \\\n",
    "                DF['Debt_Ratio'] * Debt_Ratio + \\\n",
    "                DF['Interest_Coverage'] * Interest_Coverage + \\\n",
    "                DF['Dividend_Payout_Ratio'] * Dividend_Payout_Ratio + \\\n",
    "                DF['PB']*PB + DF['PS']*PS"
   ]
  },
  {
   "cell_type": "code",
   "execution_count": 35,
   "metadata": {},
   "outputs": [
    {
     "name": "stdout",
     "output_type": "stream",
     "text": [
      "           ROE       ROA  Debt_Ratio  Interest_Coverage  Payout_Ratio  \\\n",
      "CSCO  0.847394  0.751661    1.188703           0.806260      1.803891   \n",
      "QCOM  2.187166  0.841797    1.540463           0.567115      2.372578   \n",
      "MSFT  0.938712  0.866176    1.163693           0.279578      1.234017   \n",
      "TXN   1.378856  1.761262    0.915286           1.601522      2.102127   \n",
      "AAPL  1.494840  1.032492    1.326229           0.873758      0.895880   \n",
      "NVDA  0.560843  1.021413    0.534294           2.714763      0.489049   \n",
      "ADBE  0.686133  0.899178    0.892053           0.968903      0.000000   \n",
      "ASML  0.594108  0.900696    0.748065                NaN     -0.025711   \n",
      "INTU  1.016669  1.567502    0.730023                NaN      1.128169   \n",
      "AMD   0.295281  0.357823    0.961191           0.188102      0.000000   \n",
      "\n",
      "      Dividend_Payout_Ratio        PB        PS        PE  Dividend_Yield  \\\n",
      "CSCO               1.443113  0.452428  0.476968  0.390849        1.938229   \n",
      "QCOM               1.898062  1.468826  0.484191  0.491625        2.026706   \n",
      "MSFT               0.987214  0.767968  1.017874  0.598902        0.865305   \n",
      "TXN                1.681701  0.954120  0.963079  0.506558        1.742743   \n",
      "AAPL               0.716704  0.927475  0.525783  0.454206        0.828325   \n",
      "NVDA               0.391239  0.954262  1.738616  1.245580        0.164886   \n",
      "ADBE                    NaN  1.114762  1.712736  1.189377             NaN   \n",
      "ASML              -0.020568  0.513529  0.816534  0.632769       -0.017064   \n",
      "INTU               0.902535  1.459357  1.314522  1.050817        0.450870   \n",
      "AMD                     NaN  1.387273  0.949697  3.439317             NaN   \n",
      "\n",
      "      Gross_Profit_Margin  Revenue_Growth  NetIncome_Growth  EPS_Growth  \\\n",
      "CSCO             0.999951        0.738921         10.035590   10.041916   \n",
      "QCOM             1.025983        0.959987         -0.182377   -0.161084   \n",
      "MSFT             1.047085        1.986753          0.131192    0.105940   \n",
      "TXN              1.012323       -1.256960         -0.009676   -0.005121   \n",
      "AAPL             0.600869       -0.289041         -0.006887   -0.000256   \n",
      "NVDA             0.984920       -0.964548         -0.031149   -0.025085   \n",
      "ADBE             1.350948        3.358053          0.013351    0.011513   \n",
      "ASML             0.730111        2.959900          0.021417    0.018262   \n",
      "INTU             1.570819        1.947048          0.027400    0.020705   \n",
      "AMD              0.676991        0.559887          0.001138   -0.006790   \n",
      "\n",
      "      RD_Growth    ranking  \n",
      "CSCO   0.355260  13.804557  \n",
      "QCOM  -0.370531   3.243840  \n",
      "MSFT   1.340526   2.804047  \n",
      "TXN   -0.088342   2.322709  \n",
      "AAPL   1.277668   1.170842  \n",
      "NVDA   1.750545   0.339310  \n",
      "ADBE   2.342961        NaN  \n",
      "ASML   2.304533        NaN  \n",
      "INTU   0.363860        NaN  \n",
      "AMD    0.723520        NaN  \n"
     ]
    }
   ],
   "source": [
    "print(DF.sort_values(by=['ranking'],ascending=False))"
   ]
  },
  {
   "cell_type": "code",
   "execution_count": null,
   "metadata": {},
   "outputs": [],
   "source": []
  }
 ],
 "metadata": {
  "kernelspec": {
   "display_name": "Python 3",
   "language": "python",
   "name": "python3"
  },
  "language_info": {
   "codemirror_mode": {
    "name": "ipython",
    "version": 3
   },
   "file_extension": ".py",
   "mimetype": "text/x-python",
   "name": "python",
   "nbconvert_exporter": "python",
   "pygments_lexer": "ipython3",
   "version": "3.7.6"
  }
 },
 "nbformat": 4,
 "nbformat_minor": 4
}
