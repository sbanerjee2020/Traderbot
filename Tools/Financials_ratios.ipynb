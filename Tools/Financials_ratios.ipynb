{
 "cells": [
  {
   "cell_type": "markdown",
   "metadata": {},
   "source": [
    "# Financial ratios\n",
    "https://medium.com/datadriveninvestor/how-to-get-financial-ratios-using-python-18131b63ef29\n",
    "    "
   ]
  },
  {
   "cell_type": "code",
   "execution_count": 1,
   "metadata": {},
   "outputs": [],
   "source": [
    "import requests\n",
    "import json\n",
    "import pandas as pd"
   ]
  },
  {
   "cell_type": "code",
   "execution_count": 2,
   "metadata": {},
   "outputs": [],
   "source": [
    "# Get company ratios using request package\n",
    "company = 'AAPL'   \n",
    "financial_ratios =  requests.get(f\"https://financialmodelingprep.com/api/v3/financial-ratios/{company}?apikey=33a7c94e046defe591808732c7e21281\")\n",
    "financial_ratios = financial_ratios.json()"
   ]
  },
  {
   "cell_type": "code",
   "execution_count": 3,
   "metadata": {},
   "outputs": [
    {
     "ename": "KeyError",
     "evalue": "'ratios'",
     "output_type": "error",
     "traceback": [
      "\u001b[0;31m---------------------------------------------------------------------------\u001b[0m",
      "\u001b[0;31mKeyError\u001b[0m                                  Traceback (most recent call last)",
      "\u001b[0;32m<ipython-input-3-58fe16445c99>\u001b[0m in \u001b[0;36m<module>\u001b[0;34m\u001b[0m\n\u001b[0;32m----> 1\u001b[0;31m \u001b[0mratios\u001b[0m \u001b[0;34m=\u001b[0m \u001b[0mfinancial_ratios\u001b[0m\u001b[0;34m[\u001b[0m\u001b[0;34m'ratios'\u001b[0m\u001b[0;34m]\u001b[0m\u001b[0;34m[\u001b[0m\u001b[0;36m0\u001b[0m\u001b[0;34m]\u001b[0m\u001b[0;34m\u001b[0m\u001b[0;34m\u001b[0m\u001b[0m\n\u001b[0m\u001b[1;32m      2\u001b[0m \u001b[0mratios\u001b[0m\u001b[0;34m\u001b[0m\u001b[0;34m\u001b[0m\u001b[0m\n",
      "\u001b[0;31mKeyError\u001b[0m: 'ratios'"
     ]
    }
   ],
   "source": [
    "ratios = financial_ratios['ratios'][0]\n",
    "ratios"
   ]
  },
  {
   "cell_type": "code",
   "execution_count": null,
   "metadata": {},
   "outputs": [],
   "source": [
    "profit_ratios = ratios['profitabilityIndicatorRatios']\n",
    "profit_ratios"
   ]
  },
  {
   "cell_type": "code",
   "execution_count": null,
   "metadata": {},
   "outputs": [],
   "source": [
    "# Create a function that will get profit ratios when given a stock \n",
    "def get_profit_ratios(stock):\n",
    "    financial_ratios =  requests.get(f\"https://financialmodelingprep.com/api/v3/financial-ratios/{stock}\")\n",
    "    financial_ratios = financial_ratios.json()\n",
    "    ratios = financial_ratios['ratios'][0]\n",
    "    profit_ratios = ratios['profitabilityIndicatorRatios']\n",
    "    \n",
    "    return profit_ratios"
   ]
  },
  {
   "cell_type": "code",
   "execution_count": null,
   "metadata": {},
   "outputs": [],
   "source": [
    "# Check the function works\n",
    "get_profit_ratios('AAPL')"
   ]
  },
  {
   "cell_type": "code",
   "execution_count": null,
   "metadata": {},
   "outputs": [],
   "source": [
    "cash_flow = ratios['cashFlowIndicatorRatios']\n",
    "cash_flow"
   ]
  },
  {
   "cell_type": "code",
   "execution_count": null,
   "metadata": {},
   "outputs": [],
   "source": [
    "# Create a function that will get cash flow ratios when given a stock \n",
    "def get_cashflow_ratios(stock):\n",
    "    financial_ratios =  requests.get(f\"https://financialmodelingprep.com/api/v3/financial-ratios/{stock}\")\n",
    "    financial_ratios = financial_ratios.json()\n",
    "    ratios = financial_ratios['ratios'][0]\n",
    "    cash_flow = ratios['cashFlowIndicatorRatios']\n",
    "    \n",
    "    return profit_ratios"
   ]
  },
  {
   "cell_type": "code",
   "execution_count": null,
   "metadata": {},
   "outputs": [],
   "source": [
    "# Check the function works\n",
    "get_cashflow_ratios('AAPL')"
   ]
  },
  {
   "cell_type": "code",
   "execution_count": null,
   "metadata": {},
   "outputs": [],
   "source": []
  }
 ],
 "metadata": {
  "kernelspec": {
   "display_name": "Python 3",
   "language": "python",
   "name": "python3"
  },
  "language_info": {
   "codemirror_mode": {
    "name": "ipython",
    "version": 3
   },
   "file_extension": ".py",
   "mimetype": "text/x-python",
   "name": "python",
   "nbconvert_exporter": "python",
   "pygments_lexer": "ipython3",
   "version": "3.7.6"
  }
 },
 "nbformat": 4,
 "nbformat_minor": 2
}
