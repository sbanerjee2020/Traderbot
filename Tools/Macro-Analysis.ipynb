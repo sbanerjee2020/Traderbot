{
 "cells": [
  {
   "cell_type": "code",
   "execution_count": 1,
   "metadata": {},
   "outputs": [],
   "source": [
    "# https://medium.com/swlh/simple-quick-and-accurate-macroeconomic-analysis-with-python-cca3fe1206a2"
   ]
  },
  {
   "cell_type": "code",
   "execution_count": 2,
   "metadata": {},
   "outputs": [],
   "source": [
    "# Importing Packages\n",
    "import quandl\n",
    "import pandas as pd\n",
    "import matplotlib.pyplot as plt\n",
    "from matplotlib.pyplot import figure\n",
    "import datetime"
   ]
  },
  {
   "cell_type": "code",
   "execution_count": 3,
   "metadata": {},
   "outputs": [],
   "source": [
    "# Initializing Quandl\n",
    "quandl.ApiConfig.api_key = '_yDQnofhU4xgJHwZJoF9'\n"
   ]
  },
  {
   "cell_type": "code",
   "execution_count": 5,
   "metadata": {},
   "outputs": [
    {
     "name": "stdout",
     "output_type": "stream",
     "text": [
      "            Value\n",
      "Date             \n",
      "2015-12-31  37.13\n",
      "2016-01-04  36.81\n",
      "2016-01-05  35.97\n",
      "2016-01-06  33.97\n",
      "2016-01-07  33.29\n",
      "...           ...\n",
      "2020-04-15  19.96\n",
      "2020-04-16  19.82\n",
      "2020-04-17  18.31\n",
      "2020-04-20 -36.98\n",
      "2020-04-21   8.91\n",
      "\n",
      "[1078 rows x 1 columns]\n"
     ]
    }
   ],
   "source": [
    "# Pull WTI Crude Oil data from quandl\n",
    "oil = pd.DataFrame(quandl.get(\"FRED/DCOILWTICO\", start_date=\"2015-12-31\", end_date=\"2020-04-21\", collapse=\"daily\"))\n",
    "print(oil)\n",
    "# Output DataFrame to CSV file\n",
    "oil.to_csv(\"oil.csv\", index=True)"
   ]
  },
  {
   "cell_type": "code",
   "execution_count": 6,
   "metadata": {},
   "outputs": [
    {
     "data": {
      "image/png": "[encoded data removed]",
      "text/plain": [
       "<Figure size 432x288 with 1 Axes>"
      ]
     },
     "metadata": {
      "needs_background": "light"
     },
     "output_type": "display_data"
    },
    {
     "data": {
      "text/plain": [
       "<Figure size 720x1080 with 0 Axes>"
      ]
     },
     "metadata": {},
     "output_type": "display_data"
    }
   ],
   "source": [
    "# Plot initial data, with specific color\n",
    "plt.plot(oil, color='#7FE5F0')\n",
    "# Label and title adjustments\n",
    "plt.xlabel('Date')\n",
    "plt.ylabel('$ Dollar/Barrel')\n",
    "plt.title('WTI Crude Oil Prices')\n",
    "plt.axhline(0, color='black')\n",
    "plt.xlim(datetime.date(2015, 12, 31),datetime.date(2020, 4, 30))\n",
    "# Resizing and Saving Figure\n",
    "fig = plt.gcf()\n",
    "fig = figure(num=None, figsize=(10,15))\n",
    "fig.savefig('WTICrude.png', dpi=100)"
   ]
  },
  {
   "cell_type": "markdown",
   "metadata": {},
   "source": [
    "# Unemployment Rate\n",
    "Our new knowledge now opens up a lot of doors for us with future analysis. Another important economic data point we can now pull is the unemployment rate. The dataset makes me quite sad to reminisce about the strong economy before COVID-19, but let’s get started. We’ll be pulling from this subset this time. The Quandl code is “FRED/UNRATE”\n",
    "\n",
    "<img  src =\"https://miro.medium.com/max/878/1*FBaxcy4hqKFjxlXd_5mGXw.png\">"
   ]
  },
  {
   "cell_type": "code",
   "execution_count": 7,
   "metadata": {},
   "outputs": [
    {
     "name": "stdout",
     "output_type": "stream",
     "text": [
      "            Value\n",
      "Date             \n",
      "2001-01-01    4.2\n",
      "2001-02-01    4.2\n",
      "2001-03-01    4.3\n",
      "2001-04-01    4.4\n",
      "2001-05-01    4.3\n",
      "...           ...\n",
      "2019-12-01    3.5\n",
      "2020-01-01    3.6\n",
      "2020-02-01    3.5\n",
      "2020-03-01    4.4\n",
      "2020-04-01   14.7\n",
      "\n",
      "[232 rows x 1 columns]\n"
     ]
    }
   ],
   "source": [
    "# Pull unemployment data\n",
    "unemployment = pd.DataFrame(quandl.get(\"FRED/UNRATE\", start_date=\"2000-12-31\", end_date=\"2020-04-20\"))\n",
    "print(unemployment)\n",
    "# Push DataFrame to CSV\n",
    "unemployment.to_csv(\"unemployment.csv\", index=True)"
   ]
  },
  {
   "cell_type": "markdown",
   "metadata": {},
   "source": [
    "# Canadiand Economic Data\n",
    "<img src=\"https://miro.medium.com/max/1400/1*gbPZi2803gFpVqco32y06g.png\">"
   ]
  },
  {
   "cell_type": "code",
   "execution_count": null,
   "metadata": {},
   "outputs": [],
   "source": []
  }
 ],
 "metadata": {
  "kernelspec": {
   "display_name": "Python 3",
   "language": "python",
   "name": "python3"
  },
  "language_info": {
   "codemirror_mode": {
    "name": "ipython",
    "version": 3
   },
   "file_extension": ".py",
   "mimetype": "text/x-python",
   "name": "python",
   "nbconvert_exporter": "python",
   "pygments_lexer": "ipython3",
   "version": "3.7.6"
  }
 },
 "nbformat": 4,
 "nbformat_minor": 4
}
