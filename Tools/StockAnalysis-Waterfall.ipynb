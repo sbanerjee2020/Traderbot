{
 "cells": [
  {
   "cell_type": "markdown",
   "metadata": {},
   "source": [
    "# Stock Analysis - Waterfall Chart\n",
    "\n",
    "https://towardsdatascience.com/python-stock-analysis-income-statement-waterfall-chart-ffb7f9a4687f"
   ]
  },
  {
   "cell_type": "code",
   "execution_count": 3,
   "metadata": {},
   "outputs": [],
   "source": [
    "#!pip install plotly"
   ]
  },
  {
   "cell_type": "code",
   "execution_count": 4,
   "metadata": {},
   "outputs": [],
   "source": [
    "import plotly.express as px\n",
    "import plotly.graph_objects as go\n",
    "import pandas as pd\n",
    "import requests\n",
    "import json"
   ]
  },
  {
   "cell_type": "code",
   "execution_count": 7,
   "metadata": {},
   "outputs": [],
   "source": [
    "def selectquote(quote):\n",
    "    r= requests.get(f\"https://financialmodelingprep.com/api/v3/financials/income-statement/{quote}?period=quarter\")\n",
    "    r = r.json()\n",
    "    print(r)\n",
    "    stock = r['financials']\n",
    "    stock = pd.DataFrame.from_dict(stock)\n",
    "    stock = stock.T\n",
    "    stock.columns = stock.iloc[0]\n",
    "    stock.reset_index(inplace=True)\n",
    "    stock = stock.iloc[:,0:2]\n",
    "    stock.rename(columns={ stock.columns[1]: quote }, inplace = True)\n",
    "    cols = stock.columns.drop('index')\n",
    "    stock[cols] = stock[cols].apply(pd.to_numeric, errors='coerce')\n",
    "    stock = stock.iloc[1:,]\n",
    "    return stock"
   ]
  },
  {
   "cell_type": "code",
   "execution_count": 8,
   "metadata": {},
   "outputs": [
    {
     "name": "stdout",
     "output_type": "stream",
     "text": [
      "{'Error Message': 'Invalid API KEY. Please retry or visit our documentation to create one FREE https://financialmodelingprep.com/developer/docs'}\n"
     ]
    },
    {
     "ename": "KeyError",
     "evalue": "'financials'",
     "output_type": "error",
     "traceback": [
      "\u001b[0;31m---------------------------------------------------------------------------\u001b[0m",
      "\u001b[0;31mKeyError\u001b[0m                                  Traceback (most recent call last)",
      "\u001b[0;32m<ipython-input-8-cf431da62bc7>\u001b[0m in \u001b[0;36m<module>\u001b[0;34m\u001b[0m\n\u001b[0;32m----> 1\u001b[0;31m \u001b[0mincomeStatement\u001b[0m \u001b[0;34m=\u001b[0m \u001b[0mselectquote\u001b[0m\u001b[0;34m(\u001b[0m\u001b[0;34m'AAPL'\u001b[0m\u001b[0;34m)\u001b[0m\u001b[0;34m\u001b[0m\u001b[0;34m\u001b[0m\u001b[0m\n\u001b[0m\u001b[1;32m      2\u001b[0m \u001b[0mprint\u001b[0m\u001b[0;34m(\u001b[0m\u001b[0mincomeStatement\u001b[0m\u001b[0;34m)\u001b[0m\u001b[0;34m\u001b[0m\u001b[0;34m\u001b[0m\u001b[0m\n",
      "\u001b[0;32m<ipython-input-7-66a2d8e360d2>\u001b[0m in \u001b[0;36mselectquote\u001b[0;34m(quote)\u001b[0m\n\u001b[1;32m      3\u001b[0m     \u001b[0mr\u001b[0m \u001b[0;34m=\u001b[0m \u001b[0mr\u001b[0m\u001b[0;34m.\u001b[0m\u001b[0mjson\u001b[0m\u001b[0;34m(\u001b[0m\u001b[0;34m)\u001b[0m\u001b[0;34m\u001b[0m\u001b[0;34m\u001b[0m\u001b[0m\n\u001b[1;32m      4\u001b[0m     \u001b[0mprint\u001b[0m\u001b[0;34m(\u001b[0m\u001b[0mr\u001b[0m\u001b[0;34m)\u001b[0m\u001b[0;34m\u001b[0m\u001b[0;34m\u001b[0m\u001b[0m\n\u001b[0;32m----> 5\u001b[0;31m     \u001b[0mstock\u001b[0m \u001b[0;34m=\u001b[0m \u001b[0mr\u001b[0m\u001b[0;34m[\u001b[0m\u001b[0;34m'financials'\u001b[0m\u001b[0;34m]\u001b[0m\u001b[0;34m\u001b[0m\u001b[0;34m\u001b[0m\u001b[0m\n\u001b[0m\u001b[1;32m      6\u001b[0m     \u001b[0mstock\u001b[0m \u001b[0;34m=\u001b[0m \u001b[0mpd\u001b[0m\u001b[0;34m.\u001b[0m\u001b[0mDataFrame\u001b[0m\u001b[0;34m.\u001b[0m\u001b[0mfrom_dict\u001b[0m\u001b[0;34m(\u001b[0m\u001b[0mstock\u001b[0m\u001b[0;34m)\u001b[0m\u001b[0;34m\u001b[0m\u001b[0;34m\u001b[0m\u001b[0m\n\u001b[1;32m      7\u001b[0m     \u001b[0mstock\u001b[0m \u001b[0;34m=\u001b[0m \u001b[0mstock\u001b[0m\u001b[0;34m.\u001b[0m\u001b[0mT\u001b[0m\u001b[0;34m\u001b[0m\u001b[0;34m\u001b[0m\u001b[0m\n",
      "\u001b[0;31mKeyError\u001b[0m: 'financials'"
     ]
    }
   ],
   "source": [
    "incomeStatement = selectquote('AAPL')\n",
    "print(incomeStatement)"
   ]
  },
  {
   "cell_type": "markdown",
   "metadata": {},
   "source": [
    "- First, we slice our Pandas DataFrame to only keep the income statement from the last available quarter. \n",
    "- Then, we rename our column names to have the name of the stock instead of the date. \n",
    "- Finally, we transform our Income Statement information (i.e. column) into a number."
   ]
  },
  {
   "cell_type": "code",
   "execution_count": null,
   "metadata": {},
   "outputs": [],
   "source": [
    "Revenue = incomeStatement[incomeStatement['index'] == 'Revenue'].iloc[0][1]\n",
    "COGS = incomeStatement[incomeStatement['index'] == 'Cost of Revenue'].iloc[0][1]*-1\n",
    "grossProfit = incomeStatement[incomeStatement['index'] == 'Gross Profit'].iloc[0][1]\n",
    "RD = incomeStatement[incomeStatement['index'] == 'R&D Expenses'].iloc[0][1]*-1\n",
    "GA = incomeStatement[incomeStatement['index'] == 'SG&A Expense'].iloc[0][1]*-1\n",
    "operatingExpenses = incomeStatement[incomeStatement['index'] == 'Operating Expenses'].iloc[0][1]*-1\n",
    "Interest = incomeStatement[incomeStatement['index'] == 'Interest Expense'].iloc[0][1]*-1\n",
    "EBT = incomeStatement[incomeStatement['index'] == 'Earnings before Tax'].iloc[0][1]\n",
    "incTax = incomeStatement[incomeStatement['index'] == 'Income Tax Expense'].iloc[0][1]*-1\n",
    "NetIncome = incomeStatement[incomeStatement['index'] == 'Net Income'].iloc[0][1]"
   ]
  },
  {
   "cell_type": "code",
   "execution_count": null,
   "metadata": {},
   "outputs": [],
   "source": [
    "fig = go.Figure(go.Waterfall(\n",
    "name = \"20\", orientation = \"v\",\n",
    "measure = [\"relative\", \"relative\", \"total\", \"relative\", \"relative\", \"total\",\"relative\",\"total\",\"relative\",\"total\"],\n",
    "x = [\"Revenue\", \"COGS\", \"Gross Profit\", \"RD\", \"G&A\", \"Operating Expenses\",\"Interest Expense\", \"Earn Before Tax\",\"Income Tax\",\"Net Income\"],\n",
    "textposition = \"outside\",\n",
    "text = [Revenue/100000, COGS/100000, grossProfit/100000, RD/100000, GA/1000000, operatingExpenses/1000000,Interest/100000, EBT/100000,incTax/100000, NetIncome/100000],\n",
    "y = [Revenue, COGS, grossProfit, RD, GA, operatingExpenses, Interest,EBT, incTax, NetIncome], \n",
    "connector = {\"line\":{\"color\":\"rgb(63, 63, 63)\"}}, )) \n",
    "fig.update_layout( \n",
    "title = \"Profit and loss statement\",\n",
    "showlegend = True ) \n",
    "fig.show()"
   ]
  },
  {
   "cell_type": "code",
   "execution_count": null,
   "metadata": {},
   "outputs": [],
   "source": []
  }
 ],
 "metadata": {
  "kernelspec": {
   "display_name": "Python 3",
   "language": "python",
   "name": "python3"
  },
  "language_info": {
   "codemirror_mode": {
    "name": "ipython",
    "version": 3
   },
   "file_extension": ".py",
   "mimetype": "text/x-python",
   "name": "python",
   "nbconvert_exporter": "python",
   "pygments_lexer": "ipython3",
   "version": "3.7.6"
  }
 },
 "nbformat": 4,
 "nbformat_minor": 2
}
