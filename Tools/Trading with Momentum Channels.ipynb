{
 "cells": [
  {
   "cell_type": "markdown",
   "metadata": {},
   "source": [
    "# Trading With Momentum Channels in Python\n",
    "\n",
    "###### https://medium.com/swlh/trading-with-momentum-channels-in-python-f58a0f3ebd37\n",
    "\n",
    "###### https://towardsdatascience.com/algorithmic-trading-101-1f9bb503e22a"
   ]
  },
  {
   "cell_type": "markdown",
   "metadata": {},
   "source": [
    "# Bollinger Bands® (BB Value)\n",
    "### Description:\n",
    "\n",
    "- A TA defined by a set of lines plotted two STDs above and below from a SMA of the stock price. \n",
    "\n",
    "- Bollinger Bands® were developed by John Bollinger. \n",
    "- They comprise of three lines: a simple moving average (middle band), an upper band, and a lower band. \n",
    "\n",
    "- The upper  and lower bands are +/- 2 STD above and below respectively from a 14-day SMA.\n",
    "\n",
    "~~~~ \n",
    " Upper Band = (Rolling Mean) + (2 * Standard Deviation)\n",
    " Lower Band = (Rolling Mean) - (2 * Standard Deviation)\n",
    "~~~~\n",
    "\n",
    "- BB Value = (Prices — Rolling Mean) / (2 * Standard Deviation)\n",
    "\n",
    "- Signal: STD is a measure of volatility, and hence when markets become more volatile the bands widen, and vice versa.\n",
    "\n",
    "### Buying position: \n",
    "-  When the stock price tends to falls below the lower band, it indicates a good buying position. \n",
    "- In this case, BB Value is less than 0.\n",
    "\n",
    "### Selling position: \n",
    "- When the stock price tends to rise above the upper band, it indicates a good selling position. \n",
    "- In this case, BB Value is greater than 1."
   ]
  },
  {
   "cell_type": "markdown",
   "metadata": {},
   "source": [
    "# Relative Strength Index (RSI)\n",
    "### Description:\n",
    "\n",
    "- RSI is a momentum indicator that measures the magnitude of recent price changes to evaluate overbought or oversold conditions in the price of a stock. \n",
    "\n",
    "- RSI is a popular momentum oscillator. It compares the bullish and bearish price momentum plotted against the graph of an asset’s price. The index is calculated by the average gain and average loss over a rolling time window.\n",
    "\n",
    "~~~~\n",
    "Average Gain = Total Gain / Lookback\n",
    "Average Loss = Total Loss / Lookback\n",
    "RSI = 100 — (100 / (1 + (Average Gain / Average Loss)))\n",
    "~~~~\n",
    "\n",
    "# Signal:\n",
    "Comparing the average gain with the average loss shows if the market is tending towards a positive or a negative momentum associated with a stock. However, the comparison needs to encompass the momentum associated with the market indicator (SPY) as well.\n",
    "\n",
    "- Buying position: \n",
    "- When the RSI for the stock is below 30 and the RSI for SPY is greater than 30, it indicates a good buying position. This signifies that the market is oversold.\n",
    "- Selling position: \n",
    "- When the RSI for the stock is above 70 and the RSI for SPY is less than 70, it indicates a good selling position. This signifies that the market is overbought."
   ]
  },
  {
   "cell_type": "markdown",
   "metadata": {},
   "source": [
    "# Momentum\n",
    "#### Description:\n",
    "- Momentum is an oscillator which gauges the momentum of a stock by comparing the stock price to a historical price over a specified time window. \n",
    "\n",
    "- Positive values of momentum signify that the price of the stock is on an upwards roll, while negative values of momentum signify that the price of the stock is on a downwards roll. \n",
    "\n",
    "~~~~  \n",
    "Momentum is calculated using the following formula: <br>\n",
    "Momentum = (Price[t] / Price[t-N]) — 1\n",
    "~~~~\n",
    "\n",
    "Signal:\n",
    "Momentum indicates a simple upwards or downwards direction of price movement over a specified time window.\n",
    "Buying position: When momentum > 0, it indicates that the stock price is on the rise. This can be a potential buying position.\n",
    "\n",
    "Selling position: When the momentum < 0, it indicates that the stock price is on the fall. This can be a potential selling position.\n",
    "\n",
    "Momentum is very sensitive to volatile price changes. Hence it should be noted that the threshold can be adjusted on a case by case basis to ensure correlation between momentum and future price."
   ]
  },
  {
   "cell_type": "markdown",
   "metadata": {},
   "source": [
    "# Volatility (Z-score)\n",
    "#### Description:\n",
    "- Volatility is defined as the statistical measure of the dispersion of returns for a given stock of market index. \n",
    "- It represents how large a stock’s price swings around the mean price. \n",
    "- The movement of the stock price around the mean is quantified in the unit of standard deviations. \n",
    "- Volatile assets are often considered riskier than less volatile assets as it impacts the predictability of the price. \n",
    "- Higher volatility means that the stock’s price can be spread out over a larger range of values. \n",
    "- This means that the price can dramatically change over a short period of time in either direction. \n",
    "- Lower volatility indicates the stock’s price down not fluctuate hysterically, and hence is steadier. \n",
    "- Volatility can be quantified using the following formula:\n",
    "~~~~\n",
    "Volatility (Z-score) = (Price — Mean) / (Standard Deviation)\n",
    "~~~~\n",
    "\n",
    "#### Signal:\n",
    "- Stocks with lower volatility (combined with a positive momentum) tend to indicate safer position, as opposed to stocks with higher volatility.\n",
    "- Buying position: When the volatility is less than 3, it indicates that the stock price steadier. This can be a potential buying position.\n",
    "- Selling position: When the volatility is greater than 3, it indicates that the stock price is unsteady. This can be a potential selling position.\n",
    "- It should be noted that volatility (z-score) ought to be combined with a momentum and trend signal to identify buying or selling position."
   ]
  },
  {
   "cell_type": "markdown",
   "metadata": {},
   "source": [
    "# Moving Average Convergence Divergence (MACD)\n",
    "#### Description:\n",
    "\n",
    "- MACD as trend-following momentum indicator that shows the relationship between two moving averages of a stock’s price. \n",
    "\n",
    "- MACD is calculated by subtracting 26-period exponential moving average (EMA) from the 12-period exponential moving average (EMA). \n",
    "\n",
    "- This is called as the MACD fast line. \n",
    "\n",
    "- The MACD slow line is the 9-period EMA. \n",
    "\n",
    "- The difference between the MACD fast line and the MACD slow line helps create a histogram which shows divergence and convergence. \n",
    "\n",
    "- This histogram can be used to identify a buying trend or a selling trend in the market. \n",
    "\n",
    "- For the purpose of our calculation, we only focus on the market trend by taking a difference between MACD fast and MACD slow lines:\n",
    "\n",
    "~~~~\n",
    "MACD fast line = EMA(12 months) — EMA(26 months)\n",
    "MACD slow line = EMA(9 months)\n",
    "MACD Histogram (or Indicator) = MACD fast line — MACD slow line\n",
    "~~~~\n",
    "\n",
    "#### Signal:\n",
    "\n",
    "- The difference between the MACD fast and slow lines (or the MACD indicator) indicates a buy or selling trend in the market. MACD triggers when it crosses above (to buy) or below (to sell) its signal line.\n",
    "\n",
    "- Buying position: When the MACD fast line crosses above the MACD slow line, the difference becomes positive. Hence, when the MACD indicator is greater than 0, it can be a potential buying position.\n",
    "\n",
    "- Selling position: When the MACD fast line crosses below the MACD slow line, the difference becomes negative. Hence, when the MACD indicator is less than 0, it can be a potential selling position.#"
   ]
  },
  {
   "cell_type": "markdown",
   "metadata": {},
   "source": [
    "\n",
    "                                                                        \n",
    "![Indicators](https://miro.medium.com/max/1400/1*Uzdj5iY4igV1f4ukdLNzzw.png \"Indicators\")\n",
    "\n",
    "\n",
    "> Buying Strategy: [ (BB Value < 0) AND (RSI < 30) AND (RSI_SPY > 30) ] OR [ (momentum > -0.2) AND (volatility >= -1.5) AND (MACD > 0) ]\n",
    ">\n",
    ">\n",
    "> Selling Strategy: [ (BB Value > 0) AND (RSI > 70) AND (RSI_SPY < 70) ] OR [ (momentum < 0.1) AND (MACD < -1.0) ]"
   ]
  },
  {
   "cell_type": "markdown",
   "metadata": {},
   "source": [
    "<img url = https://miro.medium.com/max/1400/1*Uzdj5iY4igV1f4ukdLNzzw.png>"
   ]
  },
  {
   "cell_type": "code",
   "execution_count": 1,
   "metadata": {},
   "outputs": [],
   "source": [
    "import pandas as pd\n",
    "import numpy as np\n",
    "import matplotlib.pyplot as plt"
   ]
  },
  {
   "cell_type": "code",
   "execution_count": 2,
   "metadata": {},
   "outputs": [],
   "source": [
    "def load_file(f):\n",
    "    fixprice = lambda x: float(x.replace(',', '.'))\n",
    "    df = pd.read_csv(f)\n",
    "    if \"Gmt time\" in df.columns:\n",
    "        df['Date'] = pd.to_datetime(df['Gmt time'], format=\"%d.%m.%Y %H:%M:%S.%f\")\n",
    "    elif \"time\" in df.columns:\n",
    "        df['Date'] = pd.to_datetime(df['time'], unit=\"s\")\n",
    "        df['Date'] = df['Date'] + np.timedelta64(3 * 60, \"m\")\n",
    "        df[['Date', 'Open', 'High', 'Low', 'Close']] = df[['Date', 'open', 'high', 'low', 'close']]\n",
    "        df = df[['Date', 'Open', 'High', 'Low', 'Close']]\n",
    "    elif \"Tarih\" in df.columns:\n",
    "        df['Date'] = pd.to_datetime(df['Tarih'], format=\"%d.%m.%Y\")\n",
    "        df['Open'] = df['Açılış'].apply(fixprice)\n",
    "        df['High'] = df['Yüksek'].apply(fixprice)\n",
    "        df['Low'] = df['Düşük'].apply(fixprice)\n",
    "        df['Close'] = df['Şimdi'].apply(fixprice)\n",
    "    else:\n",
    "        df[\"Date\"] = pd.to_datetime(df[\"Date\"])\n",
    "    # we need to shift or we will have lookahead bias in code\n",
    "    df[\"Returns\"] = (df[\"Close\"].shift(1) - df[\"Close\"].shift(2)) / df[\"Close\"].shift(2)\n",
    "    return df"
   ]
  },
  {
   "cell_type": "code",
   "execution_count": 3,
   "metadata": {},
   "outputs": [],
   "source": [
    "def plot_candles(df, l=0):\n",
    "    \"\"\"\n",
    "        Plots candles\n",
    "        l: plot last n candles. If set zero, draw all\n",
    "    \"\"\"\n",
    "    db = df.copy()\n",
    "    if l > 0:\n",
    "        db = db[-l:]\n",
    "    db = db.reset_index(drop=True).reset_index()\n",
    "    db[\"Up\"] = db[\"Close\"] > db[\"Open\"]\n",
    "    db[\"Bottom\"] = np.where(db[\"Up\"], db[\"Open\"], db[\"Close\"])\n",
    "    db[\"Bar\"] = db[\"High\"] - db[\"Low\"]\n",
    "    db[\"Body\"] = abs(db[\"Close\"] - db[\"Open\"])\n",
    "    db[\"Color\"] = np.where(db[\"Up\"], \"g\", \"r\")\n",
    "    fig, ax = plt.subplots(1, 1, figsize=(16, 9))\n",
    "    ax.yaxis.tick_right()\n",
    "    ax.bar(db[\"index\"], bottom=db[\"Low\"], height=db[\"Bar\"], width=0.25, color=\"#000000\")\n",
    "    ax.bar(db[\"index\"], bottom=db[\"Bottom\"], height=db[\"Body\"], width=0.5, color=db[\"Color\"])\n",
    "    ax.plot(db[\"OVB\"], color=\"r\", linewidth=0.25)\n",
    "    ax.plot(db[\"OVS\"], color=\"r\", linewidth=0.25)\n",
    "    plt.show()"
   ]
  },
  {
   "cell_type": "code",
   "execution_count": 4,
   "metadata": {},
   "outputs": [],
   "source": [
    "def add_momentum(df, lb=20, std=2):\n",
    "    df[\"MA\"] = df[\"Returns\"].rolling(lb).mean()\n",
    "    df[\"STD\"] = df[\"Returns\"].rolling(lb).std()\n",
    "    df[\"OVB\"] = df[\"Close\"].shift(1) * (1 + (df[\"MA\"] + df[\"STD\"] * std))\n",
    "    df[\"OVS\"] = df[\"Close\"].shift(1) * (1 + (df[\"MA\"] - df[\"STD\"] * std))\n",
    "    return df"
   ]
  },
  {
   "cell_type": "code",
   "execution_count": 5,
   "metadata": {},
   "outputs": [],
   "source": [
    "def stats(df):\n",
    "    total = len(df)\n",
    "    ins1 = df[(df[\"Close\"] > df[\"OVS\"]) & (df[\"Close\"] < df[\"OVB\"])]\n",
    "    ins2 = df[(df[\"Close\"] > df[\"OVS\"])]\n",
    "    ins3 = df[(df[\"Close\"] < df[\"OVB\"])]\n",
    "    il1 = len(ins1)\n",
    "    il2 = len(ins2)\n",
    "    il3 = len(ins3)\n",
    "    r1 = np.round(il1 / total * 100, 2)\n",
    "    r2 = np.round(il2 / total * 100, 2)\n",
    "    r3 = np.round(il3 / total * 100, 2)\n",
    "    return r1, r2, r3"
   ]
  },
  {
   "cell_type": "code",
   "execution_count": 6,
   "metadata": {},
   "outputs": [
    {
     "data": {
      "text/plain": [
       "<matplotlib.axes._subplots.AxesSubplot at 0x7fefa3ce7350>"
      ]
     },
     "execution_count": 6,
     "metadata": {},
     "output_type": "execute_result"
    },
    {
     "data": {
      "image/png": "[encoded data removed]",
      "text/plain": [
       "<Figure size 1152x720 with 1 Axes>"
      ]
     },
     "metadata": {
      "needs_background": "light"
     },
     "output_type": "display_data"
    }
   ],
   "source": [
    "sym = \"EURUSD\"\n",
    "period = \"1d\"\n",
    "fl = \"./{} {}.csv\".format(period, sym)\n",
    "df = load_file(fl)\n",
    "df[\"Returns\"].hist(bins=1000, grid=False, figsize=(16,10))"
   ]
  },
  {
   "cell_type": "code",
   "execution_count": 7,
   "metadata": {},
   "outputs": [],
   "source": [
    "df = add_momentum(df, 20, 1)"
   ]
  },
  {
   "cell_type": "code",
   "execution_count": 8,
   "metadata": {},
   "outputs": [
    {
     "data": {
      "image/png": "[encoded data removed]",
      "text/plain": [
       "<Figure size 1152x648 with 1 Axes>"
      ]
     },
     "metadata": {
      "needs_background": "light"
     },
     "output_type": "display_data"
    }
   ],
   "source": [
    "plot_candles(df, 50)"
   ]
  },
  {
   "cell_type": "code",
   "execution_count": 9,
   "metadata": {},
   "outputs": [
    {
     "data": {
      "text/plain": [
       "(67.36, 83.3, 83.77)"
      ]
     },
     "execution_count": 9,
     "metadata": {},
     "output_type": "execute_result"
    }
   ],
   "source": [
    "stats(df)"
   ]
  },
  {
   "cell_type": "code",
   "execution_count": null,
   "metadata": {},
   "outputs": [],
   "source": []
  }
 ],
 "metadata": {
  "kernelspec": {
   "display_name": "Python 3",
   "language": "python",
   "name": "python3"
  },
  "language_info": {
   "codemirror_mode": {
    "name": "ipython",
    "version": 3
   },
   "file_extension": ".py",
   "mimetype": "text/x-python",
   "name": "python",
   "nbconvert_exporter": "python",
   "pygments_lexer": "ipython3",
   "version": "3.7.6"
  }
 },
 "nbformat": 4,
 "nbformat_minor": 4
}
